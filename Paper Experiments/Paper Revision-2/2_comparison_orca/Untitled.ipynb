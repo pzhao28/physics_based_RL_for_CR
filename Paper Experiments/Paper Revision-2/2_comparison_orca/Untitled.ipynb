{
 "cells": [
  {
   "cell_type": "code",
   "execution_count": 1,
   "metadata": {},
   "outputs": [],
   "source": [
    "import matplotlib.pyplot as plt\n",
    "import seaborn as sns\n",
    "import pandas as pd"
   ]
  },
  {
   "cell_type": "code",
   "execution_count": 2,
   "metadata": {},
   "outputs": [],
   "source": [
    "proposed = pd.read_csv('conflict_num_CR.csv', names=[\"proposed method\"])\n",
    "no_CR = pd.read_csv('conflict_num_noCR.csv', names = [\"no conflict resolution\"])\n",
    "vb = pd.read_csv('conflict_num_vb.csv', names = [\"value based method\"])\n",
    "orca = pd.read_csv('conflict_num_orca.csv', names = [\"CS-ORCA method\"])"
   ]
  },
  {
   "cell_type": "code",
   "execution_count": 3,
   "metadata": {},
   "outputs": [],
   "source": [
    "df = pd.concat([no_CR,orca,vb,proposed], axis=1)"
   ]
  },
  {
   "cell_type": "code",
   "execution_count": 4,
   "metadata": {},
   "outputs": [],
   "source": [
    "df['average number of intruders in view'] = df.index + 2\n",
    "df['value based method'] = df['value based method']*0.1\n",
    "df['CS-ORCA method'] = df['CS-ORCA method']*6"
   ]
  },
  {
   "cell_type": "code",
   "execution_count": 5,
   "metadata": {
    "scrolled": true
   },
   "outputs": [
    {
     "data": {
      "text/html": [
       "<div>\n",
       "<style scoped>\n",
       "    .dataframe tbody tr th:only-of-type {\n",
       "        vertical-align: middle;\n",
       "    }\n",
       "\n",
       "    .dataframe tbody tr th {\n",
       "        vertical-align: top;\n",
       "    }\n",
       "\n",
       "    .dataframe thead th {\n",
       "        text-align: right;\n",
       "    }\n",
       "</style>\n",
       "<table border=\"1\" class=\"dataframe\">\n",
       "  <thead>\n",
       "    <tr style=\"text-align: right;\">\n",
       "      <th></th>\n",
       "      <th>no conflict resolution</th>\n",
       "      <th>CS-ORCA method</th>\n",
       "      <th>value based method</th>\n",
       "      <th>proposed method</th>\n",
       "      <th>average number of intruders in view</th>\n",
       "    </tr>\n",
       "  </thead>\n",
       "  <tbody>\n",
       "    <tr>\n",
       "      <td>0</td>\n",
       "      <td>1.31</td>\n",
       "      <td>0.0000</td>\n",
       "      <td>0.0</td>\n",
       "      <td>-0.00</td>\n",
       "      <td>2</td>\n",
       "    </tr>\n",
       "    <tr>\n",
       "      <td>1</td>\n",
       "      <td>2.04</td>\n",
       "      <td>0.4980</td>\n",
       "      <td>0.3</td>\n",
       "      <td>-0.00</td>\n",
       "      <td>3</td>\n",
       "    </tr>\n",
       "    <tr>\n",
       "      <td>2</td>\n",
       "      <td>2.36</td>\n",
       "      <td>0.9000</td>\n",
       "      <td>0.5</td>\n",
       "      <td>0.01</td>\n",
       "      <td>4</td>\n",
       "    </tr>\n",
       "    <tr>\n",
       "      <td>3</td>\n",
       "      <td>3.24</td>\n",
       "      <td>1.3200</td>\n",
       "      <td>0.5</td>\n",
       "      <td>0.03</td>\n",
       "      <td>5</td>\n",
       "    </tr>\n",
       "    <tr>\n",
       "      <td>4</td>\n",
       "      <td>3.44</td>\n",
       "      <td>1.4502</td>\n",
       "      <td>0.8</td>\n",
       "      <td>0.11</td>\n",
       "      <td>6</td>\n",
       "    </tr>\n",
       "    <tr>\n",
       "      <td>5</td>\n",
       "      <td>4.12</td>\n",
       "      <td>2.0142</td>\n",
       "      <td>1.1</td>\n",
       "      <td>0.09</td>\n",
       "      <td>7</td>\n",
       "    </tr>\n",
       "    <tr>\n",
       "      <td>6</td>\n",
       "      <td>4.74</td>\n",
       "      <td>1.9128</td>\n",
       "      <td>1.4</td>\n",
       "      <td>0.18</td>\n",
       "      <td>8</td>\n",
       "    </tr>\n",
       "    <tr>\n",
       "      <td>7</td>\n",
       "      <td>5.32</td>\n",
       "      <td>2.7336</td>\n",
       "      <td>1.9</td>\n",
       "      <td>0.25</td>\n",
       "      <td>9</td>\n",
       "    </tr>\n",
       "    <tr>\n",
       "      <td>8</td>\n",
       "      <td>5.67</td>\n",
       "      <td>2.6700</td>\n",
       "      <td>1.9</td>\n",
       "      <td>0.29</td>\n",
       "      <td>10</td>\n",
       "    </tr>\n",
       "    <tr>\n",
       "      <td>9</td>\n",
       "      <td>6.68</td>\n",
       "      <td>3.1908</td>\n",
       "      <td>2.0</td>\n",
       "      <td>0.38</td>\n",
       "      <td>11</td>\n",
       "    </tr>\n",
       "    <tr>\n",
       "      <td>10</td>\n",
       "      <td>6.68</td>\n",
       "      <td>3.6480</td>\n",
       "      <td>2.2</td>\n",
       "      <td>0.52</td>\n",
       "      <td>12</td>\n",
       "    </tr>\n",
       "    <tr>\n",
       "      <td>11</td>\n",
       "      <td>7.89</td>\n",
       "      <td>4.1310</td>\n",
       "      <td>2.6</td>\n",
       "      <td>0.54</td>\n",
       "      <td>13</td>\n",
       "    </tr>\n",
       "    <tr>\n",
       "      <td>12</td>\n",
       "      <td>8.29</td>\n",
       "      <td>3.7074</td>\n",
       "      <td>2.7</td>\n",
       "      <td>0.62</td>\n",
       "      <td>14</td>\n",
       "    </tr>\n",
       "    <tr>\n",
       "      <td>13</td>\n",
       "      <td>8.88</td>\n",
       "      <td>3.9798</td>\n",
       "      <td>3.2</td>\n",
       "      <td>0.82</td>\n",
       "      <td>15</td>\n",
       "    </tr>\n",
       "    <tr>\n",
       "      <td>14</td>\n",
       "      <td>9.05</td>\n",
       "      <td>4.6686</td>\n",
       "      <td>3.4</td>\n",
       "      <td>1.06</td>\n",
       "      <td>16</td>\n",
       "    </tr>\n",
       "    <tr>\n",
       "      <td>15</td>\n",
       "      <td>8.91</td>\n",
       "      <td>5.0472</td>\n",
       "      <td>3.7</td>\n",
       "      <td>1.09</td>\n",
       "      <td>17</td>\n",
       "    </tr>\n",
       "    <tr>\n",
       "      <td>16</td>\n",
       "      <td>10.31</td>\n",
       "      <td>5.1000</td>\n",
       "      <td>3.8</td>\n",
       "      <td>1.44</td>\n",
       "      <td>18</td>\n",
       "    </tr>\n",
       "    <tr>\n",
       "      <td>17</td>\n",
       "      <td>10.90</td>\n",
       "      <td>5.6682</td>\n",
       "      <td>3.8</td>\n",
       "      <td>1.58</td>\n",
       "      <td>19</td>\n",
       "    </tr>\n",
       "    <tr>\n",
       "      <td>18</td>\n",
       "      <td>11.22</td>\n",
       "      <td>6.4200</td>\n",
       "      <td>4.9</td>\n",
       "      <td>1.60</td>\n",
       "      <td>20</td>\n",
       "    </tr>\n",
       "  </tbody>\n",
       "</table>\n",
       "</div>"
      ],
      "text/plain": [
       "    no conflict resolution  CS-ORCA method  value based method  \\\n",
       "0                     1.31          0.0000                 0.0   \n",
       "1                     2.04          0.4980                 0.3   \n",
       "2                     2.36          0.9000                 0.5   \n",
       "3                     3.24          1.3200                 0.5   \n",
       "4                     3.44          1.4502                 0.8   \n",
       "5                     4.12          2.0142                 1.1   \n",
       "6                     4.74          1.9128                 1.4   \n",
       "7                     5.32          2.7336                 1.9   \n",
       "8                     5.67          2.6700                 1.9   \n",
       "9                     6.68          3.1908                 2.0   \n",
       "10                    6.68          3.6480                 2.2   \n",
       "11                    7.89          4.1310                 2.6   \n",
       "12                    8.29          3.7074                 2.7   \n",
       "13                    8.88          3.9798                 3.2   \n",
       "14                    9.05          4.6686                 3.4   \n",
       "15                    8.91          5.0472                 3.7   \n",
       "16                   10.31          5.1000                 3.8   \n",
       "17                   10.90          5.6682                 3.8   \n",
       "18                   11.22          6.4200                 4.9   \n",
       "\n",
       "    proposed method  average number of intruders in view  \n",
       "0             -0.00                                    2  \n",
       "1             -0.00                                    3  \n",
       "2              0.01                                    4  \n",
       "3              0.03                                    5  \n",
       "4              0.11                                    6  \n",
       "5              0.09                                    7  \n",
       "6              0.18                                    8  \n",
       "7              0.25                                    9  \n",
       "8              0.29                                   10  \n",
       "9              0.38                                   11  \n",
       "10             0.52                                   12  \n",
       "11             0.54                                   13  \n",
       "12             0.62                                   14  \n",
       "13             0.82                                   15  \n",
       "14             1.06                                   16  \n",
       "15             1.09                                   17  \n",
       "16             1.44                                   18  \n",
       "17             1.58                                   19  \n",
       "18             1.60                                   20  "
      ]
     },
     "execution_count": 5,
     "metadata": {},
     "output_type": "execute_result"
    }
   ],
   "source": [
    "df"
   ]
  },
  {
   "cell_type": "code",
   "execution_count": 6,
   "metadata": {},
   "outputs": [],
   "source": [
    "sns.set_theme()"
   ]
  },
  {
   "cell_type": "code",
   "execution_count": 7,
   "metadata": {
    "scrolled": false
   },
   "outputs": [
    {
     "name": "stderr",
     "output_type": "stream",
     "text": [
      "/Users/zhaopeng/opt/anaconda3/lib/python3.7/site-packages/seaborn/categorical.py:3714: UserWarning: The `factorplot` function has been renamed to `catplot`. The original name will be removed in a future release. Please update your code. Note that the default `kind` in `factorplot` (`'point'`) has changed `'strip'` in `catplot`.\n",
      "  warnings.warn(msg)\n"
     ]
    },
    {
     "data": {
      "image/png": "[encoded data removed]",
      "text/plain": [
       "<Figure size 500.225x360 with 1 Axes>"
      ]
     },
     "metadata": {},
     "output_type": "display_data"
    }
   ],
   "source": [
    "df = df.melt('average number of intruders in view', var_name='methods', value_name='average number of conflict per two hours flight')\n",
    "g=sns.factorplot(x='average number of intruders in view', y='average number of conflict per two hours flight', hue='methods', data=df)"
   ]
  },
  {
   "cell_type": "code",
   "execution_count": 8,
   "metadata": {},
   "outputs": [],
   "source": [
    "g.savefig('comparison', dpi=200)"
   ]
  },
  {
   "cell_type": "code",
   "execution_count": null,
   "metadata": {},
   "outputs": [],
   "source": []
  }
 ],
 "metadata": {
  "kernelspec": {
   "display_name": "Python 3",
   "language": "python",
   "name": "python3"
  },
  "language_info": {
   "codemirror_mode": {
    "name": "ipython",
    "version": 3
   },
   "file_extension": ".py",
   "mimetype": "text/x-python",
   "name": "python",
   "nbconvert_exporter": "python",
   "pygments_lexer": "ipython3",
   "version": "3.7.4"
  }
 },
 "nbformat": 4,
 "nbformat_minor": 2
}
